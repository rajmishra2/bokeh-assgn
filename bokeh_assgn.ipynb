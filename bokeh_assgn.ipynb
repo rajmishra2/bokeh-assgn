{
  "nbformat": 4,
  "nbformat_minor": 0,
  "metadata": {
    "colab": {
      "provenance": [],
      "toc_visible": true
    },
    "kernelspec": {
      "name": "python3",
      "display_name": "Python 3"
    },
    "language_info": {
      "name": "python"
    }
  },
  "cells": [
    {
      "cell_type": "code",
      "execution_count": 9,
      "metadata": {
        "id": "-p4bnxP4UZeC"
      },
      "outputs": [],
      "source": [
        "#Q1. How can you create a Bokeh plot using Python code?\n",
        "\n",
        "#first we need to install bokeh by pip install bokeh\n",
        "#import bokeh.io  # we need to import all this to run bokeh\n",
        "#import bokeh.plotting\n",
        "#bokeh.io.output_notebook()\n",
        "#input the data we need to search"
      ]
    },
    {
      "cell_type": "code",
      "source": [
        "#Q2. What are glyphs in Bokeh, and how can you add them to a Bokeh plot? Explain with an example.\n",
        "#visual shapes that are drawn to represent the data such as circles, squares, lines, rectangles, etc.\n",
        "\n",
        "from bokeh.plotting import figure, show, output_file\n",
        "\n",
        "# data\n",
        "x = [1, 2, 3, 4, 5]\n",
        "y = [6, 7, 8, 5, 2]\n",
        "\n",
        "# Create a figure\n",
        "p = figure(title='Patch Glyph',\n",
        "           outer_height=400, outer_width=600,\n",
        "           x_axis_label='x', y_axis_label='y',\n",
        "           toolbar_location=None)\n",
        "\n",
        "# add patch glyph\n",
        "p.patch(x, y, fill_color=\"blue\", line_color='black',\n",
        "      alpha=0.5, line_width=2)\n",
        "\n",
        "# show the results\n",
        "show(p)\n",
        "output_file(\"ex.html\")"
      ],
      "metadata": {
        "id": "JwtdbYG6ectB"
      },
      "execution_count": 15,
      "outputs": []
    },
    {
      "cell_type": "code",
      "source": [
        "#Q3. How can you customize the appearance of a Bokeh plot, including the axes, title, and legend?\n",
        " #setting labels for your axes.\n",
        "#styling the numbers displayed with your axes.\n",
        "#defining colors and other layout properties for the axes themselves\n",
        "#We can customize the legend with its several attributes such as location, color, line-color, font-size, font-style line width. We can modify it using the legend attribute with the required property name.\n",
        "\n"
      ],
      "metadata": {
        "id": "SwnKugaxf-Bj"
      },
      "execution_count": 17,
      "outputs": []
    },
    {
      "cell_type": "code",
      "source": [
        "#Q4. What is a Bokeh server, and how can you use it to create interactive plots that can be updated in\n",
        "#real time?\n",
        "\n",
        "#Bokeh server makes it easy to create interactive web applications that connect front-end UI events to running Python code. Bokeh creates high-level Python models, such as plots, ranges, axes, and glyphs, and then converts these objects to JSON to pass them to its client library, BokehJS."
      ],
      "metadata": {
        "id": "f3QM_A1zhrj7"
      },
      "execution_count": 18,
      "outputs": []
    },
    {
      "cell_type": "code",
      "source": [
        "#Q5. How can you embed a Bokeh plot into a web page or dashboard using Flask or Django?\n",
        "\n",
        "#pip install django\n",
        "#Step 2: Create the Django project\n",
        "#Change the project folder\n",
        "#Run manage.py to initially migrate data changes to our project by using migrate\n",
        "#Create a superuser to create a superuser account\n",
        "#Add the name, email, and password\n",
        "#Now let us run the command\n",
        "#Now we create a Django application\n",
        "#Now create a new file in our app folder i.e., BokehApp, and save it as urls.py.\n",
        "#Open the file and add the path to route for your home page as below and also don’t forget to import path and views.\n",
        "#Next, we create the view for our home page that will render our first Bokeh Graph. Open views.py and create a new method called home() and before that we import HttpResponse..HttpResponse is most frequently used as a return object from a Django view."
      ],
      "metadata": {
        "id": "K-MvNbIOh3NP"
      },
      "execution_count": null,
      "outputs": []
    }
  ]
}